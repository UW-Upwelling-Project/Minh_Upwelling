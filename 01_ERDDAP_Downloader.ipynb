{
 "cells": [
  {
   "cell_type": "markdown",
   "id": "d889f054-7403-4c2f-bc7e-5836fec3d490",
   "metadata": {
    "tags": []
   },
   "source": [
    "# Download data from ERDDAP using GRIDDAP\n",
    "### Written by Minh Phan"
   ]
  },
  {
   "cell_type": "markdown",
   "id": "6d6a1f05-4077-4273-97e2-47506a254915",
   "metadata": {},
   "source": [
    "**NOTE: YOU CAN SKIP THIS NOTEBOOK IF YOU ONLY WANT TO DOWNLOAD SAMPLE DATA OF OUR DATASET SINCE WE DO NOT USE ANY DATA FROM ERDDAP IN OUR FINAL PRODUCT.**\n",
    "\n",
    "This tutorial serves to provide one of many ways a user can download data from NOAA's ERDDAP HTML link template. Unlike NASA's EarthData, you don't need to register an account to download data from NOAA ERRDAP."
   ]
  },
  {
   "cell_type": "markdown",
   "id": "0843ce3f-27a4-474b-b167-657149bcbc68",
   "metadata": {},
   "source": [
    "## Import necessary libraries"
   ]
  },
  {
   "cell_type": "code",
   "execution_count": 2,
   "id": "f6b06cdc-3838-4182-91bd-9f41fe01b893",
   "metadata": {
    "collapsed": true,
    "jupyter": {
     "outputs_hidden": true
    },
    "tags": []
   },
   "outputs": [
    {
     "name": "stdout",
     "output_type": "stream",
     "text": [
      "Requirement already satisfied: erddap-python in /srv/conda/envs/notebook/lib/python3.9/site-packages (1.0.0)\n",
      "Requirement already satisfied: pandas in /srv/conda/envs/notebook/lib/python3.9/site-packages (from erddap-python) (2.0.1)\n",
      "Requirement already satisfied: requests in /srv/conda/envs/notebook/lib/python3.9/site-packages (from erddap-python) (2.27.1)\n",
      "Requirement already satisfied: xarray in /srv/conda/envs/notebook/lib/python3.9/site-packages (from erddap-python) (2023.4.2)\n",
      "Requirement already satisfied: netCDF4 in /srv/conda/envs/notebook/lib/python3.9/site-packages (from erddap-python) (1.6.3)\n",
      "Requirement already satisfied: cftime in /srv/conda/envs/notebook/lib/python3.9/site-packages (from netCDF4->erddap-python) (1.6.2)\n",
      "Requirement already satisfied: numpy in /srv/conda/envs/notebook/lib/python3.9/site-packages (from netCDF4->erddap-python) (1.23.5)\n",
      "Requirement already satisfied: python-dateutil>=2.8.2 in /srv/conda/envs/notebook/lib/python3.9/site-packages (from pandas->erddap-python) (2.8.2)\n",
      "Requirement already satisfied: pytz>=2020.1 in /srv/conda/envs/notebook/lib/python3.9/site-packages (from pandas->erddap-python) (2023.3)\n",
      "Requirement already satisfied: tzdata>=2022.1 in /srv/conda/envs/notebook/lib/python3.9/site-packages (from pandas->erddap-python) (2023.3)\n",
      "Requirement already satisfied: urllib3<1.27,>=1.21.1 in /srv/conda/envs/notebook/lib/python3.9/site-packages (from requests->erddap-python) (1.26.15)\n",
      "Requirement already satisfied: certifi>=2017.4.17 in /srv/conda/envs/notebook/lib/python3.9/site-packages (from requests->erddap-python) (2023.5.7)\n",
      "Requirement already satisfied: charset-normalizer~=2.0.0 in /srv/conda/envs/notebook/lib/python3.9/site-packages (from requests->erddap-python) (2.0.12)\n",
      "Requirement already satisfied: idna<4,>=2.5 in /srv/conda/envs/notebook/lib/python3.9/site-packages (from requests->erddap-python) (3.4)\n",
      "Requirement already satisfied: packaging>=21.3 in /srv/conda/envs/notebook/lib/python3.9/site-packages (from xarray->erddap-python) (23.1)\n",
      "Requirement already satisfied: six>=1.5 in /srv/conda/envs/notebook/lib/python3.9/site-packages (from python-dateutil>=2.8.2->pandas->erddap-python) (1.16.0)\n"
     ]
    }
   ],
   "source": [
    "! pip install erddap-python"
   ]
  },
  {
   "cell_type": "code",
   "execution_count": 1,
   "id": "e920966c-76d4-43ff-b3a2-7c11211ccbf9",
   "metadata": {
    "tags": []
   },
   "outputs": [],
   "source": [
    "import xarray as xr\n",
    "from erddapClient import ERDDAP_Griddap"
   ]
  },
  {
   "cell_type": "markdown",
   "id": "cb3ff1d2-827d-4b0a-adfc-7d816526121d",
   "metadata": {},
   "source": [
    "## Download data\n",
    "\n",
    "Unlike NASA Earthdata, we can slice dataset spatially directly for every server request. **We do not recommend slicing down and sending multiple requests, as it may put you into the organization's blacklist, hence the discontinuation of downloading using URLs approach. Instead, utilize [the library](https://pypi.org/project/erddap-python/) wrote by ERDDAP team to help slicing and downloading data.**"
   ]
  },
  {
   "cell_type": "markdown",
   "id": "bd92eeed-a90f-471b-b42f-6c5b027891b6",
   "metadata": {},
   "source": [
    "**DISCLAIMER**: make sure that the dataset is hosted on the correct database. For example, the datasetID 'hawaiii_soest_66d3_10d8_0f3c' is hosted on the University of Hawaii's ERDDAP database and is not available to download on NOAA database. Make sure to add the correct database URL to the dictionary for the downloader to work"
   ]
  },
  {
   "cell_type": "code",
   "execution_count": 3,
   "id": "38f6a91b-97c0-4542-aaf7-139b6413e2c6",
   "metadata": {
    "tags": []
   },
   "outputs": [],
   "source": [
    "# erddap website (server) & datasetID\n",
    "remote = ERDDAP_Griddap('https://pae-paha.pacioos.hawaii.edu/erddap', 'srtm30plus_v11_bathy')"
   ]
  },
  {
   "cell_type": "code",
   "execution_count": null,
   "id": "298ac7dc-3017-40c8-870d-6b1583888573",
   "metadata": {},
   "outputs": [],
   "source": [
    "# get data\n",
    "xSubset = ( remote.setResultVariables('elev')\n",
    "                 .setSubset(latitude=slice(-12, 32),\n",
    "                            longitude=slice(42, 102))\n",
    "                 .getxArray() )"
   ]
  },
  {
   "cell_type": "markdown",
   "id": "b7915563-58c3-42bf-89b7-71885f65e2c5",
   "metadata": {
    "jp-MarkdownHeadingCollapsed": true,
    "tags": []
   },
   "source": [
    "## Get to know GRIDDAP URL link template [DEPRECATED]\n",
    "\n",
    "One of the datasets that we used in this project is [Reanalysis Data ERA5 monthly 3d Wind velocities](https://apdrc.soest.hawaii.edu/erddap/griddap/hawaii_soest_66d3_10d8_0f3c.html). For the default options, select file type as .nc (NetCDF3-binary file) and click 'Just generate the URL,' you can see the URL is then https://apdrc.soest.hawaii.edu/erddap/griddap/hawaii_soest_66d3_10d8_0f3c.nc?u[(2023-04-01T00:00:00Z):1:(2023-04-01T00:00:00Z)][(10.0):1:(1000.0)][(-90.0):1:(90.0)][(0.0):1:(359.75)],v[(2023-04-01T00:00:00Z):1:(2023-04-01T00:00:00Z)][(10.0):1:(1000.0)][(-90.0):1:(90.0)][(0.0):1:(359.75)] and it follows this template:\n",
    "\n",
    "<div style=\"display: inline\">https://apdrc.soest.hawaii.edu/erddap/griddap</div>/<b>DATASET_ID</b>.<b>FILE_EXTENSION</b> \n",
    "\n",
    "following by\n",
    "\n",
    "<b>VARIABLE_NAME1</b> [(<b>START_DIM1</b>):<b>STRIDE_DIM1</b>:(<b>STOP_DIM1</b>)][(<b>START_DIM2</b>):<b>STRIDE_DIM2</b>:(<b>STOP_DIM2</b>)][(<b>START_DIM3</b>):<b>STRIDE_DIM3</b>:(<b>STOP_DIM3</b>)]... \n",
    "\n",
    "and then\n",
    "\n",
    "\n",
    "<b>VARIABLE_NAME2</b>[(<b>START_DIM1</b>):<b>STRIDE_DIM1</b>:(<b>STOP_DIM1</b>)][(<b>START_DIM2</b>):<b>STRIDE_DIM2</b>:(<b>STOP_DIM2</b>)][(<b>START_DIM3</b>):<b>STRIDE_DIM3</b>:(<b>STOP_DIM3</b>)]... \n",
    "\n",
    "and so on for all the variables. To illustrate this template, you can liken it to downloading every variable as an Xarray DataArray, and combine them together based on the coordinates. In the URL above, the order and specifications of the dimension slicing options must be the consistent for all variables, just like how Xarray combining by coords only works if the coordinates are so. \n",
    "\n",
    "The template is also well-explained in [GRIDDAP documentation](https://coastwatch.pfeg.noaa.gov/erddap/griddap/documentation.html)."
   ]
  },
  {
   "cell_type": "markdown",
   "id": "23f52b9a-ad30-4e84-8290-2316e502a899",
   "metadata": {},
   "source": [
    "We can all agree that trying to write down every template for different datasets is error-prone and tedious, so you are more than welcome to copy and modify your template using the original file generator Python formatted strings to help with generating URLs for downloads. Since URLs vary greatly form dataset to dataset, there is no ideal URL template to consider, but we will still develop a function to generalize the URL generator to the best of my knowledge."
   ]
  },
  {
   "cell_type": "markdown",
   "id": "7389bfb1-e3b5-46fd-8223-620cb22a266d",
   "metadata": {},
   "source": [
    "**NOTE**: for the URL template, we focus on downloading smaller chunks of the dataset, sliced temporally just like downloading from the EarthData database so that the remote server would not be broken handling the request. We also recommend you to download variables together in one NetCDF3 file (multiple variable names in one URL) instead of individual variables as it takes time piecing them all together."
   ]
  }
 ],
 "metadata": {
  "kernelspec": {
   "display_name": "Python 3 (ipykernel)",
   "language": "python",
   "name": "python3"
  },
  "language_info": {
   "codemirror_mode": {
    "name": "ipython",
    "version": 3
   },
   "file_extension": ".py",
   "mimetype": "text/x-python",
   "name": "python",
   "nbconvert_exporter": "python",
   "pygments_lexer": "ipython3",
   "version": "3.9.16"
  }
 },
 "nbformat": 4,
 "nbformat_minor": 5
}
