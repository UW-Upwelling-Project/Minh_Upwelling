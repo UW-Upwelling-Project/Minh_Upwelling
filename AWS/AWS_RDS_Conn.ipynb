{
 "cells": [
  {
   "cell_type": "code",
   "execution_count": 1,
   "id": "b5546143-5d96-4bbf-925d-0450a3293586",
   "metadata": {
    "tags": []
   },
   "outputs": [
    {
     "name": "stdout",
     "output_type": "stream",
     "text": [
      "Collecting psycopg2\n",
      "  Downloading psycopg2-2.9.7.tar.gz (383 kB)\n",
      "\u001b[2K     \u001b[90m━━━━━━━━━━━━━━━━━━━━━━━━━━━━━━━━━━━━━━\u001b[0m \u001b[32m383.5/383.5 kB\u001b[0m \u001b[31m12.0 MB/s\u001b[0m eta \u001b[36m0:00:00\u001b[0m\n",
      "\u001b[?25h  Preparing metadata (setup.py) ... \u001b[?25ldone\n",
      "\u001b[?25hBuilding wheels for collected packages: psycopg2\n",
      "  Building wheel for psycopg2 (setup.py) ... \u001b[?25ldone\n",
      "\u001b[?25h  Created wheel for psycopg2: filename=psycopg2-2.9.7-cp39-cp39-linux_x86_64.whl size=168926 sha256=00414b8085d613bf56eebbe82490e758e63cbbbbdd572dace54eea5763caebcd\n",
      "  Stored in directory: /home/jovyan/.cache/pip/wheels/44/ef/34/f88e09ab4edac4762e32d647da652c3f1c74a07987354c7ee5\n",
      "Successfully built psycopg2\n",
      "Installing collected packages: psycopg2\n",
      "Successfully installed psycopg2-2.9.7\n"
     ]
    }
   ],
   "source": [
    "! pip install psycopg2 #(run in terminal for persistence?)"
   ]
  },
  {
   "cell_type": "markdown",
   "id": "7e64ca63-7c63-4ad4-ab8a-cfc8a8d95f0f",
   "metadata": {},
   "source": [
    "**change inbound rules and outbound rules for database instance before connecting**\n",
    "https://blog.futuresmart.ai/how-to-create-a-mysql-db-on-aws-rds-and-connect-with-python-the-ultimate-step-by-step-guide#heading-step-2-set-the-inbound-rules-for-the-security-group"
   ]
  },
  {
   "cell_type": "code",
   "execution_count": 4,
   "id": "0727022d-7937-4295-b0ba-f4dda29a8b06",
   "metadata": {
    "tags": []
   },
   "outputs": [],
   "source": [
    "import psycopg2, dotenv"
   ]
  },
  {
   "cell_type": "code",
   "execution_count": null,
   "id": "b068661e-6f6c-4c26-b906-71455bf8cf9c",
   "metadata": {},
   "outputs": [],
   "source": [
    "envs = dotenv.load_dotenv()"
   ]
  },
  {
   "cell_type": "code",
   "execution_count": 2,
   "id": "1fce3546-1841-46d2-9c5e-d54b67dc6e57",
   "metadata": {
    "tags": []
   },
   "outputs": [],
   "source": [
    "engine = psycopg2.connect(\n",
    "    database='indian_ocean_species_tracker',\n",
    "    user=envs['RDS_USERNAME'],\n",
    "    password=envs['RDS_PASSWORD'],\n",
    "    host='testing.cpiklacm6a5d.us-west-2.rds.amazonaws.com', # endpoint\n",
    "    port='5432'\n",
    ")"
   ]
  },
  {
   "cell_type": "code",
   "execution_count": 3,
   "id": "e85302c2-58db-447e-8722-ed060b4635ca",
   "metadata": {
    "tags": []
   },
   "outputs": [
    {
     "data": {
      "text/plain": [
       "1"
      ]
     },
     "execution_count": 3,
     "metadata": {},
     "output_type": "execute_result"
    }
   ],
   "source": [
    "engine.status"
   ]
  },
  {
   "cell_type": "code",
   "execution_count": 6,
   "id": "89ae5cac-bdda-4b67-91b7-de4853e11997",
   "metadata": {
    "tags": []
   },
   "outputs": [],
   "source": [
    "# open cursor\n",
    "cur = engine.cursor()"
   ]
  }
 ],
 "metadata": {
  "kernelspec": {
   "display_name": "Python 3 (ipykernel)",
   "language": "python",
   "name": "python3"
  },
  "language_info": {
   "codemirror_mode": {
    "name": "ipython",
    "version": 3
   },
   "file_extension": ".py",
   "mimetype": "text/x-python",
   "name": "python",
   "nbconvert_exporter": "python",
   "pygments_lexer": "ipython3",
   "version": "3.9.16"
  }
 },
 "nbformat": 4,
 "nbformat_minor": 5
}
